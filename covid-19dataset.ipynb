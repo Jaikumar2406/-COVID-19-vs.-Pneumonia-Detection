{
 "cells": [
  {
   "cell_type": "code",
   "execution_count": null,
   "metadata": {
    "_cell_guid": "b1076dfc-b9ad-4769-8c92-a6c4dae69d19",
    "_uuid": "8f2839f25d086af736a60e9eeb907d3b93b6e0e5"
   },
   "outputs": [],
   "source": [
    "# This Python 3 environment comes with many helpful analytics libraries installed\n",
    "# It is defined by the kaggle/python Docker image: https://github.com/kaggle/docker-python\n",
    "# For example, here's several helpful packages to load\n",
    "\n",
    "import numpy as np # linear algebra\n",
    "import pandas as pd # data processing, CSV file I/O (e.g. pd.read_csv)\n",
    "\n",
    "# Input data files are available in the read-only \"../input/\" directory\n",
    "# For example, running this (by clicking run or pressing Shift+Enter) will list all files under the input directory\n",
    "\n",
    "import os\n",
    "for dirname, _, filenames in os.walk('/kaggle/input'):\n",
    "    for filename in filenames:\n",
    "        print(os.path.join(dirname, filename))\n",
    "\n",
    "# You can write up to 20GB to the current directory (/kaggle/working/) that gets preserved as output when you create a version using \"Save & Run All\" \n",
    "# You can also write temporary files to /kaggle/temp/, but they won't be saved outside of the current session"
   ]
  },
  {
   "cell_type": "code",
   "execution_count": 5,
   "metadata": {
    "execution": {
     "iopub.execute_input": "2024-09-22T11:48:06.347257Z",
     "iopub.status.busy": "2024-09-22T11:48:06.346877Z",
     "iopub.status.idle": "2024-09-22T11:48:06.353650Z",
     "shell.execute_reply": "2024-09-22T11:48:06.352594Z",
     "shell.execute_reply.started": "2024-09-22T11:48:06.347224Z"
    }
   },
   "outputs": [],
   "source": [
    "import pandas as pd\n",
    "import numpy as np\n",
    "import matplotlib.pyplot as plt\n",
    "import matplotlib.image as mpimg\n",
    "import seaborn as sns\n",
    "#deep learning\n",
    "import tensorflow as tf\n",
    "from tensorflow import keras\n",
    "from keras.layers import Dropout, Activation , BatchNormalization , Flatten , Dense , Conv2D , MaxPool2D\n",
    "\n",
    "from keras.utils import to_categorical\n",
    "\n",
    "#machine learn\n",
    "from sklearn.model_selection import train_test_split\n",
    "from sklearn.preprocessing import LabelEncoder\n",
    "from sklearn.metrics import classification_report , confusion_matrix"
   ]
  },
  {
   "cell_type": "code",
   "execution_count": 8,
   "metadata": {
    "execution": {
     "iopub.execute_input": "2024-09-22T11:53:56.944362Z",
     "iopub.status.busy": "2024-09-22T11:53:56.943947Z",
     "iopub.status.idle": "2024-09-22T11:54:49.035049Z",
     "shell.execute_reply": "2024-09-22T11:54:49.033922Z",
     "shell.execute_reply.started": "2024-09-22T11:53:56.944326Z"
    }
   },
   "outputs": [],
   "source": [
    "from tqdm import tqdm\n",
    "import os\n",
    "imagepath = []\n",
    "for dirname, _, filenames in os.walk('/kaggle/input'):\n",
    "    if 'image' in dirname:\n",
    "        for filename in filenames:\n",
    "            if filename.endswith('png'):\n",
    "                imagepath.append(os.path.join(dirname, filename))"
   ]
  },
  {
   "cell_type": "code",
   "execution_count": 13,
   "metadata": {
    "execution": {
     "iopub.execute_input": "2024-09-22T12:25:36.462124Z",
     "iopub.status.busy": "2024-09-22T12:25:36.461708Z",
     "iopub.status.idle": "2024-09-22T12:27:14.184900Z",
     "shell.execute_reply": "2024-09-22T12:27:14.183677Z",
     "shell.execute_reply.started": "2024-09-22T12:25:36.462087Z"
    }
   },
   "outputs": [
    {
     "name": "stderr",
     "output_type": "stream",
     "text": [
      "100%|██████████| 21165/21165 [01:37<00:00, 216.61it/s]  "
     ]
    },
    {
     "name": "stdout",
     "output_type": "stream",
     "text": [
      "processed 15153 images\n"
     ]
    },
    {
     "name": "stderr",
     "output_type": "stream",
     "text": [
      "\n"
     ]
    }
   ],
   "source": [
    "import cv2\n",
    "data = []\n",
    "target = []\n",
    "resize = 150\n",
    "\n",
    "cat = {'Viral Pneumonia': 'pneumonia' , 'Normal': 'normal' , 'COVID':'covid'}\n",
    "\n",
    "for imagepat in tqdm(imagepath):\n",
    "    label = imagepat.split(os.path.sep)[-3]\n",
    "    if label not in cat:\n",
    "        continue\n",
    "    image = cv2.imread(imagepat)\n",
    "    image = cv2.cvtColor(image , cv2.COLOR_BGR2RGB)\n",
    "    image = cv2.resize(image , (resize,resize))/255.0\n",
    "    data.append(image)\n",
    "    target.append(cat[label])\n",
    "    \n",
    "    \n",
    "print(f\"processed {len(data)} images\")"
   ]
  },
  {
   "cell_type": "code",
   "execution_count": 15,
   "metadata": {
    "execution": {
     "iopub.execute_input": "2024-09-22T12:28:01.562170Z",
     "iopub.status.busy": "2024-09-22T12:28:01.561194Z",
     "iopub.status.idle": "2024-09-22T12:28:01.567092Z",
     "shell.execute_reply": "2024-09-22T12:28:01.566131Z",
     "shell.execute_reply.started": "2024-09-22T12:28:01.562123Z"
    }
   },
   "outputs": [
    {
     "name": "stdout",
     "output_type": "stream",
     "text": [
      "15153\n",
      "15153\n"
     ]
    }
   ],
   "source": [
    "print(len(data))\n",
    "print(len(target))"
   ]
  },
  {
   "cell_type": "code",
   "execution_count": 21,
   "metadata": {
    "execution": {
     "iopub.execute_input": "2024-09-22T12:34:22.392984Z",
     "iopub.status.busy": "2024-09-22T12:34:22.392274Z",
     "iopub.status.idle": "2024-09-22T12:34:22.406789Z",
     "shell.execute_reply": "2024-09-22T12:34:22.405814Z",
     "shell.execute_reply.started": "2024-09-22T12:34:22.392944Z"
    }
   },
   "outputs": [
    {
     "name": "stdout",
     "output_type": "stream",
     "text": [
      "['covid' 'normal' 'pneumonia']\n",
      "[0. 1. 0.]\n"
     ]
    }
   ],
   "source": [
    "le = LabelEncoder()\n",
    "label= le.fit_transform(target)\n",
    "label = to_categorical(label)\n",
    "\n",
    "print(le.classes_)\n",
    "print(label[0])"
   ]
  },
  {
   "cell_type": "code",
   "execution_count": 29,
   "metadata": {
    "execution": {
     "iopub.execute_input": "2024-09-22T12:55:37.877159Z",
     "iopub.status.busy": "2024-09-22T12:55:37.876222Z",
     "iopub.status.idle": "2024-09-22T12:55:41.947621Z",
     "shell.execute_reply": "2024-09-22T12:55:41.946610Z",
     "shell.execute_reply.started": "2024-09-22T12:55:37.877119Z"
    }
   },
   "outputs": [
    {
     "name": "stdout",
     "output_type": "stream",
     "text": [
      "(9697, 150, 150, 3)\n",
      "(3031, 150, 150, 3)\n",
      "(9697, 3)\n",
      "(3031, 3)\n",
      "(2425, 150, 150, 3)\n",
      "(2425, 3)\n"
     ]
    }
   ],
   "source": [
    "# First split into training and testing sets\n",
    "(x_train, x_test, y_train, y_test) = train_test_split(data, label, test_size=0.20, stratify=label, random_state=42)\n",
    "\n",
    "# Second split into training and validation sets\n",
    "(x_train, x_val, y_train, y_val) = train_test_split(x_train, y_train, test_size=0.20, stratify=y_train, random_state=42)\n",
    "\n",
    "trainX = np.array(x_train)\n",
    "trainY = np.array(y_train)\n",
    "testX = np.array(x_test)\n",
    "testY = np.array(y_test)\n",
    "valX = np.array(x_val)\n",
    "valY = np.array(y_val)\n",
    "\n",
    "\n",
    "print(trainX.shape)\n",
    "print(testX.shape)\n",
    "print(trainY.shape)\n",
    "print(testY.shape)\n",
    "print(valX.shape)\n",
    "print(valY.shape)"
   ]
  },
  {
   "cell_type": "code",
   "execution_count": 36,
   "metadata": {
    "execution": {
     "iopub.execute_input": "2024-09-22T13:22:38.866348Z",
     "iopub.status.busy": "2024-09-22T13:22:38.865441Z",
     "iopub.status.idle": "2024-09-22T13:22:39.014152Z",
     "shell.execute_reply": "2024-09-22T13:22:39.013115Z",
     "shell.execute_reply.started": "2024-09-22T13:22:38.866307Z"
    }
   },
   "outputs": [],
   "source": [
    "model = keras.Sequential()\n",
    "#cnn layers\n",
    "#first layer\n",
    "model.add(Conv2D(filters=32, kernel_size=(3, 3), activation='relu', input_shape=(150, 150, 3), kernel_initializer='he_normal'))\n",
    "model.add(MaxPool2D(pool_size=(2, 2)))\n",
    "\n",
    "#second layer\n",
    "model.add(Conv2D(filters=64 , kernel_size = (3,3) , activation = 'relu')),\n",
    "model.add(MaxPool2D(pool_size=(2,2))),\n",
    "#third layer\n",
    "model.add(Conv2D(filters=128 , kernel_size = (3,3) , activation = 'relu')),\n",
    "model.add(MaxPool2D(pool_size=(2,2) , strides=(1,1))),\n",
    "\n",
    "\n",
    "#ann layers\n",
    "#first layer\n",
    "model.add(Flatten()),\n",
    "model.add(Dense(64 ,activation='relu')),\n",
    "model.add(Dropout(0.2)),\n",
    "model.add(Dense(3 , activation = 'softmax'))"
   ]
  },
  {
   "cell_type": "code",
   "execution_count": 37,
   "metadata": {
    "execution": {
     "iopub.execute_input": "2024-09-22T13:22:53.593974Z",
     "iopub.status.busy": "2024-09-22T13:22:53.593517Z",
     "iopub.status.idle": "2024-09-22T13:22:53.622507Z",
     "shell.execute_reply": "2024-09-22T13:22:53.621571Z",
     "shell.execute_reply.started": "2024-09-22T13:22:53.593935Z"
    }
   },
   "outputs": [
    {
     "data": {
      "text/html": [
       "<pre style=\"white-space:pre;overflow-x:auto;line-height:normal;font-family:Menlo,'DejaVu Sans Mono',consolas,'Courier New',monospace\"><span style=\"font-weight: bold\">Model: \"sequential_6\"</span>\n",
       "</pre>\n"
      ],
      "text/plain": [
       "\u001b[1mModel: \"sequential_6\"\u001b[0m\n"
      ]
     },
     "metadata": {},
     "output_type": "display_data"
    },
    {
     "data": {
      "text/html": [
       "<pre style=\"white-space:pre;overflow-x:auto;line-height:normal;font-family:Menlo,'DejaVu Sans Mono',consolas,'Courier New',monospace\">┏━━━━━━━━━━━━━━━━━━━━━━━━━━━━━━━━━┳━━━━━━━━━━━━━━━━━━━━━━━━┳━━━━━━━━━━━━━━━┓\n",
       "┃<span style=\"font-weight: bold\"> Layer (type)                    </span>┃<span style=\"font-weight: bold\"> Output Shape           </span>┃<span style=\"font-weight: bold\">       Param # </span>┃\n",
       "┡━━━━━━━━━━━━━━━━━━━━━━━━━━━━━━━━━╇━━━━━━━━━━━━━━━━━━━━━━━━╇━━━━━━━━━━━━━━━┩\n",
       "│ conv2d_8 (<span style=\"color: #0087ff; text-decoration-color: #0087ff\">Conv2D</span>)               │ (<span style=\"color: #00d7ff; text-decoration-color: #00d7ff\">None</span>, <span style=\"color: #00af00; text-decoration-color: #00af00\">148</span>, <span style=\"color: #00af00; text-decoration-color: #00af00\">148</span>, <span style=\"color: #00af00; text-decoration-color: #00af00\">32</span>)   │           <span style=\"color: #00af00; text-decoration-color: #00af00\">896</span> │\n",
       "├─────────────────────────────────┼────────────────────────┼───────────────┤\n",
       "│ max_pooling2d_6 (<span style=\"color: #0087ff; text-decoration-color: #0087ff\">MaxPooling2D</span>)  │ (<span style=\"color: #00d7ff; text-decoration-color: #00d7ff\">None</span>, <span style=\"color: #00af00; text-decoration-color: #00af00\">74</span>, <span style=\"color: #00af00; text-decoration-color: #00af00\">74</span>, <span style=\"color: #00af00; text-decoration-color: #00af00\">32</span>)     │             <span style=\"color: #00af00; text-decoration-color: #00af00\">0</span> │\n",
       "├─────────────────────────────────┼────────────────────────┼───────────────┤\n",
       "│ conv2d_9 (<span style=\"color: #0087ff; text-decoration-color: #0087ff\">Conv2D</span>)               │ (<span style=\"color: #00d7ff; text-decoration-color: #00d7ff\">None</span>, <span style=\"color: #00af00; text-decoration-color: #00af00\">72</span>, <span style=\"color: #00af00; text-decoration-color: #00af00\">72</span>, <span style=\"color: #00af00; text-decoration-color: #00af00\">64</span>)     │        <span style=\"color: #00af00; text-decoration-color: #00af00\">18,496</span> │\n",
       "├─────────────────────────────────┼────────────────────────┼───────────────┤\n",
       "│ max_pooling2d_7 (<span style=\"color: #0087ff; text-decoration-color: #0087ff\">MaxPooling2D</span>)  │ (<span style=\"color: #00d7ff; text-decoration-color: #00d7ff\">None</span>, <span style=\"color: #00af00; text-decoration-color: #00af00\">36</span>, <span style=\"color: #00af00; text-decoration-color: #00af00\">36</span>, <span style=\"color: #00af00; text-decoration-color: #00af00\">64</span>)     │             <span style=\"color: #00af00; text-decoration-color: #00af00\">0</span> │\n",
       "├─────────────────────────────────┼────────────────────────┼───────────────┤\n",
       "│ conv2d_10 (<span style=\"color: #0087ff; text-decoration-color: #0087ff\">Conv2D</span>)              │ (<span style=\"color: #00d7ff; text-decoration-color: #00d7ff\">None</span>, <span style=\"color: #00af00; text-decoration-color: #00af00\">34</span>, <span style=\"color: #00af00; text-decoration-color: #00af00\">34</span>, <span style=\"color: #00af00; text-decoration-color: #00af00\">128</span>)    │        <span style=\"color: #00af00; text-decoration-color: #00af00\">73,856</span> │\n",
       "├─────────────────────────────────┼────────────────────────┼───────────────┤\n",
       "│ max_pooling2d_8 (<span style=\"color: #0087ff; text-decoration-color: #0087ff\">MaxPooling2D</span>)  │ (<span style=\"color: #00d7ff; text-decoration-color: #00d7ff\">None</span>, <span style=\"color: #00af00; text-decoration-color: #00af00\">33</span>, <span style=\"color: #00af00; text-decoration-color: #00af00\">33</span>, <span style=\"color: #00af00; text-decoration-color: #00af00\">128</span>)    │             <span style=\"color: #00af00; text-decoration-color: #00af00\">0</span> │\n",
       "├─────────────────────────────────┼────────────────────────┼───────────────┤\n",
       "│ flatten_2 (<span style=\"color: #0087ff; text-decoration-color: #0087ff\">Flatten</span>)             │ (<span style=\"color: #00d7ff; text-decoration-color: #00d7ff\">None</span>, <span style=\"color: #00af00; text-decoration-color: #00af00\">139392</span>)         │             <span style=\"color: #00af00; text-decoration-color: #00af00\">0</span> │\n",
       "├─────────────────────────────────┼────────────────────────┼───────────────┤\n",
       "│ dense_2 (<span style=\"color: #0087ff; text-decoration-color: #0087ff\">Dense</span>)                 │ (<span style=\"color: #00d7ff; text-decoration-color: #00d7ff\">None</span>, <span style=\"color: #00af00; text-decoration-color: #00af00\">64</span>)             │     <span style=\"color: #00af00; text-decoration-color: #00af00\">8,921,152</span> │\n",
       "├─────────────────────────────────┼────────────────────────┼───────────────┤\n",
       "│ dropout_1 (<span style=\"color: #0087ff; text-decoration-color: #0087ff\">Dropout</span>)             │ (<span style=\"color: #00d7ff; text-decoration-color: #00d7ff\">None</span>, <span style=\"color: #00af00; text-decoration-color: #00af00\">64</span>)             │             <span style=\"color: #00af00; text-decoration-color: #00af00\">0</span> │\n",
       "├─────────────────────────────────┼────────────────────────┼───────────────┤\n",
       "│ dense_3 (<span style=\"color: #0087ff; text-decoration-color: #0087ff\">Dense</span>)                 │ (<span style=\"color: #00d7ff; text-decoration-color: #00d7ff\">None</span>, <span style=\"color: #00af00; text-decoration-color: #00af00\">3</span>)              │           <span style=\"color: #00af00; text-decoration-color: #00af00\">195</span> │\n",
       "└─────────────────────────────────┴────────────────────────┴───────────────┘\n",
       "</pre>\n"
      ],
      "text/plain": [
       "┏━━━━━━━━━━━━━━━━━━━━━━━━━━━━━━━━━┳━━━━━━━━━━━━━━━━━━━━━━━━┳━━━━━━━━━━━━━━━┓\n",
       "┃\u001b[1m \u001b[0m\u001b[1mLayer (type)                   \u001b[0m\u001b[1m \u001b[0m┃\u001b[1m \u001b[0m\u001b[1mOutput Shape          \u001b[0m\u001b[1m \u001b[0m┃\u001b[1m \u001b[0m\u001b[1m      Param #\u001b[0m\u001b[1m \u001b[0m┃\n",
       "┡━━━━━━━━━━━━━━━━━━━━━━━━━━━━━━━━━╇━━━━━━━━━━━━━━━━━━━━━━━━╇━━━━━━━━━━━━━━━┩\n",
       "│ conv2d_8 (\u001b[38;5;33mConv2D\u001b[0m)               │ (\u001b[38;5;45mNone\u001b[0m, \u001b[38;5;34m148\u001b[0m, \u001b[38;5;34m148\u001b[0m, \u001b[38;5;34m32\u001b[0m)   │           \u001b[38;5;34m896\u001b[0m │\n",
       "├─────────────────────────────────┼────────────────────────┼───────────────┤\n",
       "│ max_pooling2d_6 (\u001b[38;5;33mMaxPooling2D\u001b[0m)  │ (\u001b[38;5;45mNone\u001b[0m, \u001b[38;5;34m74\u001b[0m, \u001b[38;5;34m74\u001b[0m, \u001b[38;5;34m32\u001b[0m)     │             \u001b[38;5;34m0\u001b[0m │\n",
       "├─────────────────────────────────┼────────────────────────┼───────────────┤\n",
       "│ conv2d_9 (\u001b[38;5;33mConv2D\u001b[0m)               │ (\u001b[38;5;45mNone\u001b[0m, \u001b[38;5;34m72\u001b[0m, \u001b[38;5;34m72\u001b[0m, \u001b[38;5;34m64\u001b[0m)     │        \u001b[38;5;34m18,496\u001b[0m │\n",
       "├─────────────────────────────────┼────────────────────────┼───────────────┤\n",
       "│ max_pooling2d_7 (\u001b[38;5;33mMaxPooling2D\u001b[0m)  │ (\u001b[38;5;45mNone\u001b[0m, \u001b[38;5;34m36\u001b[0m, \u001b[38;5;34m36\u001b[0m, \u001b[38;5;34m64\u001b[0m)     │             \u001b[38;5;34m0\u001b[0m │\n",
       "├─────────────────────────────────┼────────────────────────┼───────────────┤\n",
       "│ conv2d_10 (\u001b[38;5;33mConv2D\u001b[0m)              │ (\u001b[38;5;45mNone\u001b[0m, \u001b[38;5;34m34\u001b[0m, \u001b[38;5;34m34\u001b[0m, \u001b[38;5;34m128\u001b[0m)    │        \u001b[38;5;34m73,856\u001b[0m │\n",
       "├─────────────────────────────────┼────────────────────────┼───────────────┤\n",
       "│ max_pooling2d_8 (\u001b[38;5;33mMaxPooling2D\u001b[0m)  │ (\u001b[38;5;45mNone\u001b[0m, \u001b[38;5;34m33\u001b[0m, \u001b[38;5;34m33\u001b[0m, \u001b[38;5;34m128\u001b[0m)    │             \u001b[38;5;34m0\u001b[0m │\n",
       "├─────────────────────────────────┼────────────────────────┼───────────────┤\n",
       "│ flatten_2 (\u001b[38;5;33mFlatten\u001b[0m)             │ (\u001b[38;5;45mNone\u001b[0m, \u001b[38;5;34m139392\u001b[0m)         │             \u001b[38;5;34m0\u001b[0m │\n",
       "├─────────────────────────────────┼────────────────────────┼───────────────┤\n",
       "│ dense_2 (\u001b[38;5;33mDense\u001b[0m)                 │ (\u001b[38;5;45mNone\u001b[0m, \u001b[38;5;34m64\u001b[0m)             │     \u001b[38;5;34m8,921,152\u001b[0m │\n",
       "├─────────────────────────────────┼────────────────────────┼───────────────┤\n",
       "│ dropout_1 (\u001b[38;5;33mDropout\u001b[0m)             │ (\u001b[38;5;45mNone\u001b[0m, \u001b[38;5;34m64\u001b[0m)             │             \u001b[38;5;34m0\u001b[0m │\n",
       "├─────────────────────────────────┼────────────────────────┼───────────────┤\n",
       "│ dense_3 (\u001b[38;5;33mDense\u001b[0m)                 │ (\u001b[38;5;45mNone\u001b[0m, \u001b[38;5;34m3\u001b[0m)              │           \u001b[38;5;34m195\u001b[0m │\n",
       "└─────────────────────────────────┴────────────────────────┴───────────────┘\n"
      ]
     },
     "metadata": {},
     "output_type": "display_data"
    },
    {
     "data": {
      "text/html": [
       "<pre style=\"white-space:pre;overflow-x:auto;line-height:normal;font-family:Menlo,'DejaVu Sans Mono',consolas,'Courier New',monospace\"><span style=\"font-weight: bold\"> Total params: </span><span style=\"color: #00af00; text-decoration-color: #00af00\">9,014,595</span> (34.39 MB)\n",
       "</pre>\n"
      ],
      "text/plain": [
       "\u001b[1m Total params: \u001b[0m\u001b[38;5;34m9,014,595\u001b[0m (34.39 MB)\n"
      ]
     },
     "metadata": {},
     "output_type": "display_data"
    },
    {
     "data": {
      "text/html": [
       "<pre style=\"white-space:pre;overflow-x:auto;line-height:normal;font-family:Menlo,'DejaVu Sans Mono',consolas,'Courier New',monospace\"><span style=\"font-weight: bold\"> Trainable params: </span><span style=\"color: #00af00; text-decoration-color: #00af00\">9,014,595</span> (34.39 MB)\n",
       "</pre>\n"
      ],
      "text/plain": [
       "\u001b[1m Trainable params: \u001b[0m\u001b[38;5;34m9,014,595\u001b[0m (34.39 MB)\n"
      ]
     },
     "metadata": {},
     "output_type": "display_data"
    },
    {
     "data": {
      "text/html": [
       "<pre style=\"white-space:pre;overflow-x:auto;line-height:normal;font-family:Menlo,'DejaVu Sans Mono',consolas,'Courier New',monospace\"><span style=\"font-weight: bold\"> Non-trainable params: </span><span style=\"color: #00af00; text-decoration-color: #00af00\">0</span> (0.00 B)\n",
       "</pre>\n"
      ],
      "text/plain": [
       "\u001b[1m Non-trainable params: \u001b[0m\u001b[38;5;34m0\u001b[0m (0.00 B)\n"
      ]
     },
     "metadata": {},
     "output_type": "display_data"
    }
   ],
   "source": [
    "model.summary()"
   ]
  },
  {
   "cell_type": "code",
   "execution_count": 38,
   "metadata": {
    "execution": {
     "iopub.execute_input": "2024-09-22T13:24:13.235870Z",
     "iopub.status.busy": "2024-09-22T13:24:13.235004Z",
     "iopub.status.idle": "2024-09-22T13:24:13.250035Z",
     "shell.execute_reply": "2024-09-22T13:24:13.249085Z",
     "shell.execute_reply.started": "2024-09-22T13:24:13.235827Z"
    }
   },
   "outputs": [],
   "source": [
    "model.compile(\n",
    "optimizer='adam',\n",
    "loss=tf.keras.losses.categorical_crossentropy,\n",
    "metrics=['accuracy']\n",
    ")"
   ]
  },
  {
   "cell_type": "code",
   "execution_count": 40,
   "metadata": {
    "execution": {
     "iopub.execute_input": "2024-09-22T13:26:30.938524Z",
     "iopub.status.busy": "2024-09-22T13:26:30.938135Z",
     "iopub.status.idle": "2024-09-22T14:39:43.479132Z",
     "shell.execute_reply": "2024-09-22T14:39:43.477307Z",
     "shell.execute_reply.started": "2024-09-22T13:26:30.938487Z"
    }
   },
   "outputs": [
    {
     "name": "stdout",
     "output_type": "stream",
     "text": [
      "Epoch 1/20\n",
      "\u001b[1m243/243\u001b[0m \u001b[32m━━━━━━━━━━━━━━━━━━━━\u001b[0m\u001b[37m\u001b[0m \u001b[1m231s\u001b[0m 941ms/step - accuracy: 0.7371 - loss: 1.0022 - val_accuracy: 0.8915 - val_loss: 0.2767\n",
      "Epoch 2/20\n",
      "\u001b[1m243/243\u001b[0m \u001b[32m━━━━━━━━━━━━━━━━━━━━\u001b[0m\u001b[37m\u001b[0m \u001b[1m216s\u001b[0m 887ms/step - accuracy: 0.8961 - loss: 0.2595 - val_accuracy: 0.9089 - val_loss: 0.2193\n",
      "Epoch 3/20\n",
      "\u001b[1m243/243\u001b[0m \u001b[32m━━━━━━━━━━━━━━━━━━━━\u001b[0m\u001b[37m\u001b[0m \u001b[1m219s\u001b[0m 900ms/step - accuracy: 0.9311 - loss: 0.1893 - val_accuracy: 0.9237 - val_loss: 0.1995\n",
      "Epoch 4/20\n",
      "\u001b[1m243/243\u001b[0m \u001b[32m━━━━━━━━━━━━━━━━━━━━\u001b[0m\u001b[37m\u001b[0m \u001b[1m219s\u001b[0m 901ms/step - accuracy: 0.9516 - loss: 0.1324 - val_accuracy: 0.9402 - val_loss: 0.1662\n",
      "Epoch 5/20\n",
      "\u001b[1m243/243\u001b[0m \u001b[32m━━━━━━━━━━━━━━━━━━━━\u001b[0m\u001b[37m\u001b[0m \u001b[1m213s\u001b[0m 877ms/step - accuracy: 0.9607 - loss: 0.1097 - val_accuracy: 0.9472 - val_loss: 0.1545\n",
      "Epoch 6/20\n",
      "\u001b[1m243/243\u001b[0m \u001b[32m━━━━━━━━━━━━━━━━━━━━\u001b[0m\u001b[37m\u001b[0m \u001b[1m260s\u001b[0m 871ms/step - accuracy: 0.9711 - loss: 0.0840 - val_accuracy: 0.9493 - val_loss: 0.1549\n",
      "Epoch 7/20\n",
      "\u001b[1m243/243\u001b[0m \u001b[32m━━━━━━━━━━━━━━━━━━━━\u001b[0m\u001b[37m\u001b[0m \u001b[1m214s\u001b[0m 882ms/step - accuracy: 0.9791 - loss: 0.0554 - val_accuracy: 0.9303 - val_loss: 0.1964\n",
      "Epoch 8/20\n",
      "\u001b[1m243/243\u001b[0m \u001b[32m━━━━━━━━━━━━━━━━━━━━\u001b[0m\u001b[37m\u001b[0m \u001b[1m218s\u001b[0m 898ms/step - accuracy: 0.9759 - loss: 0.0675 - val_accuracy: 0.9369 - val_loss: 0.1850\n",
      "Epoch 9/20\n",
      "\u001b[1m243/243\u001b[0m \u001b[32m━━━━━━━━━━━━━━━━━━━━\u001b[0m\u001b[37m\u001b[0m \u001b[1m216s\u001b[0m 890ms/step - accuracy: 0.9805 - loss: 0.0531 - val_accuracy: 0.9460 - val_loss: 0.1665\n",
      "Epoch 10/20\n",
      "\u001b[1m243/243\u001b[0m \u001b[32m━━━━━━━━━━━━━━━━━━━━\u001b[0m\u001b[37m\u001b[0m \u001b[1m214s\u001b[0m 881ms/step - accuracy: 0.9888 - loss: 0.0333 - val_accuracy: 0.9468 - val_loss: 0.2018\n",
      "Epoch 11/20\n",
      "\u001b[1m243/243\u001b[0m \u001b[32m━━━━━━━━━━━━━━━━━━━━\u001b[0m\u001b[37m\u001b[0m \u001b[1m216s\u001b[0m 890ms/step - accuracy: 0.9883 - loss: 0.0345 - val_accuracy: 0.9460 - val_loss: 0.1958\n",
      "Epoch 12/20\n",
      "\u001b[1m243/243\u001b[0m \u001b[32m━━━━━━━━━━━━━━━━━━━━\u001b[0m\u001b[37m\u001b[0m \u001b[1m266s\u001b[0m 906ms/step - accuracy: 0.9916 - loss: 0.0289 - val_accuracy: 0.9518 - val_loss: 0.1976\n",
      "Epoch 13/20\n",
      "\u001b[1m243/243\u001b[0m \u001b[32m━━━━━━━━━━━━━━━━━━━━\u001b[0m\u001b[37m\u001b[0m \u001b[1m215s\u001b[0m 886ms/step - accuracy: 0.9921 - loss: 0.0239 - val_accuracy: 0.9460 - val_loss: 0.2477\n",
      "Epoch 14/20\n",
      "\u001b[1m243/243\u001b[0m \u001b[32m━━━━━━━━━━━━━━━━━━━━\u001b[0m\u001b[37m\u001b[0m \u001b[1m210s\u001b[0m 864ms/step - accuracy: 0.9888 - loss: 0.0345 - val_accuracy: 0.9406 - val_loss: 0.2293\n",
      "Epoch 15/20\n",
      "\u001b[1m243/243\u001b[0m \u001b[32m━━━━━━━━━━━━━━━━━━━━\u001b[0m\u001b[37m\u001b[0m \u001b[1m211s\u001b[0m 870ms/step - accuracy: 0.9914 - loss: 0.0206 - val_accuracy: 0.9472 - val_loss: 0.2632\n",
      "Epoch 16/20\n",
      "\u001b[1m243/243\u001b[0m \u001b[32m━━━━━━━━━━━━━━━━━━━━\u001b[0m\u001b[37m\u001b[0m \u001b[1m208s\u001b[0m 855ms/step - accuracy: 0.9906 - loss: 0.0268 - val_accuracy: 0.9493 - val_loss: 0.2240\n",
      "Epoch 17/20\n",
      "\u001b[1m243/243\u001b[0m \u001b[32m━━━━━━━━━━━━━━━━━━━━\u001b[0m\u001b[37m\u001b[0m \u001b[1m213s\u001b[0m 877ms/step - accuracy: 0.9938 - loss: 0.0167 - val_accuracy: 0.9435 - val_loss: 0.2049\n",
      "Epoch 18/20\n",
      "\u001b[1m243/243\u001b[0m \u001b[32m━━━━━━━━━━━━━━━━━━━━\u001b[0m\u001b[37m\u001b[0m \u001b[1m209s\u001b[0m 862ms/step - accuracy: 0.9916 - loss: 0.0226 - val_accuracy: 0.9373 - val_loss: 0.3107\n",
      "Epoch 19/20\n",
      "\u001b[1m243/243\u001b[0m \u001b[32m━━━━━━━━━━━━━━━━━━━━\u001b[0m\u001b[37m\u001b[0m \u001b[1m206s\u001b[0m 847ms/step - accuracy: 0.9890 - loss: 0.0350 - val_accuracy: 0.9460 - val_loss: 0.2470\n",
      "Epoch 20/20\n",
      "\u001b[1m243/243\u001b[0m \u001b[32m━━━━━━━━━━━━━━━━━━━━\u001b[0m\u001b[37m\u001b[0m \u001b[1m208s\u001b[0m 856ms/step - accuracy: 0.9927 - loss: 0.0237 - val_accuracy: 0.9332 - val_loss: 0.3789\n"
     ]
    },
    {
     "data": {
      "text/plain": [
       "<keras.src.callbacks.history.History at 0x7fb2801a1690>"
      ]
     },
     "execution_count": 40,
     "metadata": {},
     "output_type": "execute_result"
    }
   ],
   "source": [
    "model.fit(trainX ,trainY , epochs = 20 , batch_size = 40 , verbose=1 , validation_data =(valX , valY) ,)"
   ]
  },
  {
   "cell_type": "code",
   "execution_count": 42,
   "metadata": {
    "execution": {
     "iopub.execute_input": "2024-09-22T14:40:28.937276Z",
     "iopub.status.busy": "2024-09-22T14:40:28.936273Z",
     "iopub.status.idle": "2024-09-22T14:40:49.965011Z",
     "shell.execute_reply": "2024-09-22T14:40:49.963949Z",
     "shell.execute_reply.started": "2024-09-22T14:40:28.937232Z"
    }
   },
   "outputs": [
    {
     "name": "stdout",
     "output_type": "stream",
     "text": [
      "\u001b[1m95/95\u001b[0m \u001b[32m━━━━━━━━━━━━━━━━━━━━\u001b[0m\u001b[37m\u001b[0m \u001b[1m17s\u001b[0m 176ms/step\n",
      "[[ 665    0    0]\n",
      " [   0 2147    0]\n",
      " [   0    0  219]]\n"
     ]
    }
   ],
   "source": [
    "prediction= model.predict(testX)\n",
    "y_pred= np.argmax(prediction  , axis=1)\n",
    "\n",
    "y_test = np.argmax(prediction , axis=1)\n",
    "cm = confusion_matrix(y_pred , y_test)\n",
    "\n",
    "print(cm)"
   ]
  },
  {
   "cell_type": "code",
   "execution_count": 43,
   "metadata": {
    "execution": {
     "iopub.execute_input": "2024-09-22T14:40:49.967107Z",
     "iopub.status.busy": "2024-09-22T14:40:49.966782Z",
     "iopub.status.idle": "2024-09-22T14:40:49.971707Z",
     "shell.execute_reply": "2024-09-22T14:40:49.970847Z",
     "shell.execute_reply.started": "2024-09-22T14:40:49.967074Z"
    }
   },
   "outputs": [],
   "source": [
    "class_name = le.classes_"
   ]
  },
  {
   "cell_type": "code",
   "execution_count": 49,
   "metadata": {
    "execution": {
     "iopub.execute_input": "2024-09-22T14:44:04.346391Z",
     "iopub.status.busy": "2024-09-22T14:44:04.345578Z",
     "iopub.status.idle": "2024-09-22T14:44:04.585463Z",
     "shell.execute_reply": "2024-09-22T14:44:04.584430Z",
     "shell.execute_reply.started": "2024-09-22T14:44:04.346346Z"
    }
   },
   "outputs": [
    {
     "data": {
      "image/png": "[encoded data removed]",
      "text/plain": [
       "<Figure size 800x600 with 1 Axes>"
      ]
     },
     "metadata": {},
     "output_type": "display_data"
    }
   ],
   "source": [
    "confusion_matrix = pd.DataFrame(cm , index = class_name , columns= class_name)\n",
    "plt.figure(figsize = (8,6))\n",
    "sns.heatmap(confusion_matrix , annot=True , cbar=False ,fmt='d' ,cmap='Blues')\n",
    "plt.title('confusion_matrix ')\n",
    "plt.xlabel('Prediction')\n",
    "plt.ylabel('True')\n",
    "plt.show()"
   ]
  },
  {
   "cell_type": "code",
   "execution_count": 55,
   "metadata": {
    "execution": {
     "iopub.execute_input": "2024-09-22T14:45:53.958349Z",
     "iopub.status.busy": "2024-09-22T14:45:53.957951Z",
     "iopub.status.idle": "2024-09-22T14:45:53.976329Z",
     "shell.execute_reply": "2024-09-22T14:45:53.975405Z",
     "shell.execute_reply.started": "2024-09-22T14:45:53.958313Z"
    }
   },
   "outputs": [
    {
     "name": "stdout",
     "output_type": "stream",
     "text": [
      "              precision    recall  f1-score   support\n",
      "\n",
      "       covid    1.00000   1.00000   1.00000       665\n",
      "      normal    1.00000   1.00000   1.00000      2147\n",
      "   pneumonia    1.00000   1.00000   1.00000       219\n",
      "\n",
      "    accuracy                        1.00000      3031\n",
      "   macro avg    1.00000   1.00000   1.00000      3031\n",
      "weighted avg    1.00000   1.00000   1.00000      3031\n",
      "\n"
     ]
    }
   ],
   "source": [
    "print(classification_report(y_test , y_pred , target_names=class_name , digits=5))"
   ]
  },
  {
   "cell_type": "code",
   "execution_count": 58,
   "metadata": {
    "execution": {
     "iopub.execute_input": "2024-09-22T14:46:49.272287Z",
     "iopub.status.busy": "2024-09-22T14:46:49.271877Z",
     "iopub.status.idle": "2024-09-22T14:46:49.541872Z",
     "shell.execute_reply": "2024-09-22T14:46:49.540542Z",
     "shell.execute_reply.started": "2024-09-22T14:46:49.272251Z"
    }
   },
   "outputs": [
    {
     "name": "stdout",
     "output_type": "stream",
     "text": [
      "save\n"
     ]
    }
   ],
   "source": [
    "model.save('covid-detection-model.h5')\n",
    "\n",
    "import pickle\n",
    "pickle.dump(le, open('lebel_encoder.pkl','wb'))\n",
    "print('save')"
   ]
  },
  {
   "cell_type": "markdown",
   "metadata": {},
   "source": [
    "***REAL-TIME-DETECTION***"
   ]
  },
  {
   "cell_type": "code",
   "execution_count": 59,
   "metadata": {
    "execution": {
     "iopub.execute_input": "2024-09-22T14:54:50.698938Z",
     "iopub.status.busy": "2024-09-22T14:54:50.698508Z",
     "iopub.status.idle": "2024-09-22T14:54:50.872404Z",
     "shell.execute_reply": "2024-09-22T14:54:50.871554Z",
     "shell.execute_reply.started": "2024-09-22T14:54:50.698900Z"
    }
   },
   "outputs": [],
   "source": [
    "from tensorflow.keras.models import load_model\n",
    "load_models = load_model('covid-detection-model.h5')\n",
    "load_le = pickle.load(open('lebel_encoder.pkl' ,'rb'))"
   ]
  },
  {
   "cell_type": "code",
   "execution_count": 87,
   "metadata": {
    "execution": {
     "iopub.execute_input": "2024-09-22T15:39:29.976013Z",
     "iopub.status.busy": "2024-09-22T15:39:29.975593Z",
     "iopub.status.idle": "2024-09-22T15:39:29.984795Z",
     "shell.execute_reply": "2024-09-22T15:39:29.983712Z",
     "shell.execute_reply.started": "2024-09-22T15:39:29.975977Z"
    }
   },
   "outputs": [],
   "source": [
    "def prediction_system(image_path , load_models ,le , image_size = 150):\n",
    "    #load_image\n",
    "    load_image = cv2.imread(image_path)\n",
    "    if load_image is None:\n",
    "        raise ValueError(f\"something wrong {image_path} in this path\")\n",
    "    #preprocessing\n",
    "    image = cv2.cvtColor(load_image, cv2.COLOR_BGR2RGB)\n",
    "    image_resize = cv2.resize(image ,(image_size,image_size))\n",
    "    image_scaled = image_resize/255.0\n",
    "    image_input = np.expand_dims(image_scaled,axis=0)\n",
    "    prediction = model.predict(image_input)\n",
    "    prediction_label = np.argmax(prediction)\n",
    "    confidance_score = prediction[0][prediction_label]\n",
    "    \n",
    "    label = le.inverse_transform([prediction_label])[0]\n",
    "    \n",
    "    #for image\n",
    "    plt.imshow(image_resize)\n",
    "    plt.title(f\"predicted {label} , confidance level : {confidance_score*100:.2f}%\")\n",
    "    plt.ylabel('off')\n",
    "    plt.show()\n",
    "    \n",
    "    return label , confidance_score"
   ]
  },
  {
   "cell_type": "code",
   "execution_count": 89,
   "metadata": {
    "execution": {
     "iopub.execute_input": "2024-09-22T15:40:08.812736Z",
     "iopub.status.busy": "2024-09-22T15:40:08.812278Z",
     "iopub.status.idle": "2024-09-22T15:40:09.224161Z",
     "shell.execute_reply": "2024-09-22T15:40:09.223082Z",
     "shell.execute_reply.started": "2024-09-22T15:40:08.812693Z"
    }
   },
   "outputs": [
    {
     "name": "stdout",
     "output_type": "stream",
     "text": [
      "\u001b[1m1/1\u001b[0m \u001b[32m━━━━━━━━━━━━━━━━━━━━\u001b[0m\u001b[37m\u001b[0m \u001b[1m0s\u001b[0m 27ms/step\n"
     ]
    },
    {
     "data": {
      "image/png": "[encoded data removed]",
      "text/plain": [
       "<Figure size 640x480 with 1 Axes>"
      ]
     },
     "metadata": {},
     "output_type": "display_data"
    }
   ],
   "source": [
    "image_path='/kaggle/input/covid19-radiography-database/COVID-19_Radiography_Dataset/COVID/images/COVID-100.png'\n",
    "prediction_label , confidance_score = prediction_system(image_path , load_model ,load_le)\n"
   ]
  },
  {
   "cell_type": "code",
   "execution_count": null,
   "metadata": {},
   "outputs": [],
   "source": []
  }
 ],
 "metadata": {
  "kaggle": {
   "accelerator": "none",
   "dataSources": [
    {
     "datasetId": 576013,
     "sourceId": 3324348,
     "sourceType": "datasetVersion"
    }
   ],
   "dockerImageVersionId": 30761,
   "isGpuEnabled": false,
   "isInternetEnabled": false,
   "language": "python",
   "sourceType": "notebook"
  },
  "kernelspec": {
   "display_name": "Python 3 (ipykernel)",
   "language": "python",
   "name": "python3"
  },
  "language_info": {
   "codemirror_mode": {
    "name": "ipython",
    "version": 3
   },
   "file_extension": ".py",
   "mimetype": "text/x-python",
   "name": "python",
   "nbconvert_exporter": "python",
   "pygments_lexer": "ipython3",
   "version": "3.12.4"
  }
 },
 "nbformat": 4,
 "nbformat_minor": 4
}
